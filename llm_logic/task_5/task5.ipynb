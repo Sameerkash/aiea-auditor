{
 "cells": [
  {
   "cell_type": "markdown",
   "id": "82901b75",
   "metadata": {},
   "source": [
    "### Convert Natural Language questions to Prolog KB with Facts and Rules"
   ]
  },
  {
   "cell_type": "code",
   "execution_count": null,
   "id": "f36b0975",
   "metadata": {},
   "outputs": [],
   "source": [
    "import os\n",
    "\n",
    "api_key = os.getenv(\"OPENAI_API_KEY\")\n",
    "from openai import OpenAI\n",
    "client = OpenAI(\n",
    "    api_key=api_key\n",
    ")   "
   ]
  },
  {
   "cell_type": "code",
   "execution_count": 20,
   "id": "9d5c41d9",
   "metadata": {},
   "outputs": [
    {
     "name": "stdout",
     "output_type": "stream",
     "text": [
      "friend(joey, chandler).\n",
      "friend(chandler, joey).\n",
      "best_friend(joey, chandler).\n",
      "\n",
      "married(mike, phoebe).\n",
      "male(mike).\n",
      "female(phoebe).\n",
      "wife(X, Y) :- married(Y, X), female(X).\n",
      "\n",
      "sibling(ross, monica).\n",
      "sibling(monica, ross).\n",
      "male(ross).\n",
      "brother(X, Y) :- sibling(X, Y), male(X).\n",
      "\n",
      "friend(monica, rachel).\n",
      "friends_with(X, Y) :- friend(X, Y).\n"
     ]
    }
   ],
   "source": [
    "text_prompt = '''Convert this natural language input into prolog facts and rules. Give only the code in prolog syntax that can be explicitly converted to .pl file and Do not add any comments or explanations:\n",
    "Joey is Chandler's friend and Chandler is Joey's friend, who is the best friend of Joey?\n",
    "Mike is married to Phoebe and Mike is male while Phoebe is female, who is the wife of Mike?\n",
    "Ross and Monica are siblings and Ross is male, who is Monica's brother?\n",
    "Monica is Rachel's friend, who is Monica friends with?'''\n",
    "\n",
    "text_response = client.responses.create(\n",
    "    model=\"gpt-4.1\",\n",
    "    input=text_prompt\n",
    ").output_text\n",
    "\n",
    "print(text_response)"
   ]
  },
  {
   "cell_type": "markdown",
   "id": "0d79e009",
   "metadata": {},
   "source": [
    "### Running Prolog program to infer the answer"
   ]
  },
  {
   "cell_type": "code",
   "execution_count": 21,
   "id": "ca9d8cfe",
   "metadata": {},
   "outputs": [],
   "source": [
    "with open(\"output.pl\", \"w\") as file:\n",
    "    file.write(text_response)\n"
   ]
  },
  {
   "cell_type": "code",
   "execution_count": 22,
   "id": "ecf3724f",
   "metadata": {},
   "outputs": [
    {
     "name": "stderr",
     "output_type": "stream",
     "text": [
      "Warning: /home/pavithra/aiea_task5_logic_llm/output.pl:12:\n",
      "Warning:    Clauses of male/1 are not together in the source-file\n",
      "Warning:    Earlier definition at /home/pavithra/aiea_task5_logic_llm/output.pl:6\n",
      "Warning:    Current predicate: sibling/2\n",
      "Warning:    Use :- discontiguous male/1. to suppress this message\n",
      "Warning: /home/pavithra/aiea_task5_logic_llm/output.pl:15:\n",
      "Warning:    Clauses of friend/2 are not together in the source-file\n",
      "Warning:    Earlier definition at /home/pavithra/aiea_task5_logic_llm/output.pl:1\n",
      "Warning:    Current predicate: brother/2\n",
      "Warning:    Use :- discontiguous friend/2. to suppress this message\n"
     ]
    }
   ],
   "source": [
    "from pyswip import Prolog\n",
    "\n",
    "prolog = Prolog()\n",
    "prolog.consult(\"output.pl\")"
   ]
  },
  {
   "cell_type": "code",
   "execution_count": 23,
   "id": "aa5b1beb",
   "metadata": {},
   "outputs": [
    {
     "name": "stdout",
     "output_type": "stream",
     "text": [
      "Query: best_friend(joey, X)\n",
      "{'X': 'chandler'}\n",
      "\n",
      "Query: best_friend(joey, chandler)\n",
      "{}\n",
      "\n",
      "Query: best_friend(joey, ross)\n",
      "\n",
      "Query: wife(phoebe, Husband)\n",
      "{'Husband': 'mike'}\n",
      "\n",
      "Query: brother(X, monica)\n",
      "{'X': 'ross'}\n",
      "\n"
     ]
    }
   ],
   "source": [
    "queries = [\n",
    "    \"best_friend(joey, X)\",\n",
    "    \"best_friend(joey, chandler)\",\n",
    "    \"best_friend(joey, ross)\",\n",
    "    \"wife(phoebe, Husband)\",\n",
    "    \"brother(X, monica)\",\n",
    "]\n",
    "\n",
    "query_result = []\n",
    "for q in queries:\n",
    "    print(f\"Query: {q}\")\n",
    "    results = list(prolog.query(q))\n",
    "    for r in results:\n",
    "        print(r)\n",
    "    query_result.append((q,results))\n",
    "    print()\n"
   ]
  },
  {
   "cell_type": "code",
   "execution_count": 24,
   "id": "1144e67a",
   "metadata": {},
   "outputs": [
    {
     "data": {
      "text/plain": [
       "[('best_friend(joey, X)', [{'X': 'chandler'}]),\n",
       " ('best_friend(joey, chandler)', [{}]),\n",
       " ('best_friend(joey, ross)', []),\n",
       " ('wife(phoebe, Husband)', [{'Husband': 'mike'}]),\n",
       " ('brother(X, monica)', [{'X': 'ross'}])]"
      ]
     },
     "execution_count": 24,
     "metadata": {},
     "output_type": "execute_result"
    }
   ],
   "source": [
    "query_result"
   ]
  },
  {
   "cell_type": "markdown",
   "id": "fe46dce0",
   "metadata": {},
   "source": [
    "### Convert the prolog result back to Natural Language"
   ]
  },
  {
   "cell_type": "code",
   "execution_count": 26,
   "id": "7463e078",
   "metadata": {},
   "outputs": [
    {
     "name": "stdout",
     "output_type": "stream",
     "text": [
      "Query: best_friend(joey, X)  \n",
      "Result: [{'X': 'chandler'}]\n",
      "\n",
      "Answer: Joey's best friend is Chandler.\n",
      "\n",
      "Query: best_friend(joey, chandler)  \n",
      "Result: [{}]\n",
      "\n",
      "Answer: Yes, Joey is best friends with Chandler.\n",
      "\n",
      "Query: best_friend(joey, ross)  \n",
      "Result: []\n",
      "\n",
      "Answer: Joey and Ross are not best friends.\n",
      "\n",
      "Query: wife(phoebe, Husband)  \n",
      "Result: [{'Husband': 'mike'}]\n",
      "\n",
      "Answer: Phoebe's husband is Mike.\n",
      "\n",
      "Query: brother(X, monica)  \n",
      "Result: [{'X': 'ross'}]\n",
      "\n",
      "Answer: Ross is Monica's brother.\n",
      "\n"
     ]
    }
   ],
   "source": [
    "for query, result in query_result:\n",
    "    prompt = f\"\"\"Convert the following Prolog query and result into a natural language answer. Print the query and result in the prompt, and then provide a concise answer.\n",
    "\n",
    "            Query: {query}\n",
    "            Result: {result}\n",
    "\n",
    "            Answer:\"\"\"\n",
    "    \n",
    "    response = client.responses.create(\n",
    "        model=\"gpt-4.1\",\n",
    "        input=prompt\n",
    "    ).output_text\n",
    "\n",
    "    print(response)\n",
    "    print()\n"
   ]
  },
  {
   "cell_type": "code",
   "execution_count": null,
   "id": "5e1a065c",
   "metadata": {},
   "outputs": [],
   "source": []
  }
 ],
 "metadata": {
  "kernelspec": {
   "display_name": "Python (aiea_env)",
   "language": "python",
   "name": "aiea_env"
  },
  "language_info": {
   "codemirror_mode": {
    "name": "ipython",
    "version": 3
   },
   "file_extension": ".py",
   "mimetype": "text/x-python",
   "name": "python",
   "nbconvert_exporter": "python",
   "pygments_lexer": "ipython3",
   "version": "3.10.16"
  }
 },
 "nbformat": 4,
 "nbformat_minor": 5
}
