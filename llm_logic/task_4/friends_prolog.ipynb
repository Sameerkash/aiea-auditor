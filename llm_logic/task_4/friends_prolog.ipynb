{
 "cells": [
  {
   "cell_type": "code",
   "execution_count": 1,
   "id": "262fd4da",
   "metadata": {},
   "outputs": [],
   "source": [
    "from pyswip import Prolog"
   ]
  },
  {
   "cell_type": "code",
   "execution_count": 3,
   "id": "580adb60",
   "metadata": {},
   "outputs": [],
   "source": [
    "prolog = Prolog()\n",
    "prolog.consult(\"friends.pl\")"
   ]
  },
  {
   "cell_type": "code",
   "execution_count": 12,
   "id": "70dc0ea8",
   "metadata": {},
   "outputs": [
    {
     "name": "stdout",
     "output_type": "stream",
     "text": [
      "Query: bestfriend(joey, chandler)\n",
      "{}\n",
      "\n",
      "Query: friend(joey, Y)\n",
      "{'Y': 'chandler'}\n",
      "\n",
      "Query: wife(X, chandler)\n",
      "{'X': 'monica'}\n",
      "\n",
      "Query: wife(X, Y)\n",
      "{'X': 'monica', 'Y': 'chandler'}\n",
      "{'X': 'phoebe', 'Y': 'mike'}\n",
      "\n",
      "Query: brother(ross, monica)\n",
      "{}\n",
      "\n",
      "Query: sister(monica, ross)\n",
      "{}\n",
      "\n",
      "Query: friend(monica, Y)\n",
      "{'Y': 'rachel'}\n",
      "{'Y': 'phoebe'}\n",
      "\n"
     ]
    }
   ],
   "source": [
    "queries = [\n",
    "    \"bestfriend(joey, chandler)\",\n",
    "    \"friend(joey, Y)\",\n",
    "    \"wife(X, chandler)\",\n",
    "    \"wife(X, Y)\",\n",
    "    \"brother(ross, monica)\",\n",
    "    \"sister(monica, ross)\",\n",
    "    \"friend(monica, Y)\"\n",
    "]\n",
    "\n",
    "for q in queries:\n",
    "    print(f\"Query: {q}\")\n",
    "    results = prolog.query(q)\n",
    "    for r in results:\n",
    "        print(r)\n",
    "    print()"
   ]
  },
  {
   "cell_type": "code",
   "execution_count": null,
   "id": "5ebfea44",
   "metadata": {},
   "outputs": [],
   "source": []
  }
 ],
 "metadata": {
  "kernelspec": {
   "display_name": "Python (aiea_env)",
   "language": "python",
   "name": "aiea_env"
  },
  "language_info": {
   "codemirror_mode": {
    "name": "ipython",
    "version": 3
   },
   "file_extension": ".py",
   "mimetype": "text/x-python",
   "name": "python",
   "nbconvert_exporter": "python",
   "pygments_lexer": "ipython3",
   "version": "3.10.16"
  }
 },
 "nbformat": 4,
 "nbformat_minor": 5
}
