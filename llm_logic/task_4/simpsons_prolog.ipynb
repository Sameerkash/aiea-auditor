{
 "cells": [
  {
   "cell_type": "code",
   "execution_count": 2,
   "id": "7bb167f9",
   "metadata": {},
   "outputs": [],
   "source": [
    "from pyswip import Prolog"
   ]
  },
  {
   "cell_type": "code",
   "execution_count": 3,
   "id": "c44221db",
   "metadata": {},
   "outputs": [],
   "source": [
    "prolog = Prolog()\n",
    "prolog.consult(\"simpsons.pl\")"
   ]
  },
  {
   "cell_type": "code",
   "execution_count": 23,
   "id": "8830c26b",
   "metadata": {},
   "outputs": [
    {
     "name": "stdout",
     "output_type": "stream",
     "text": [
      "Query: father(X, bart)\n",
      "{'X': 'homer'}\n",
      "\n",
      "Query: mother(marge, Y)\n",
      "{'Y': 'bart'}\n",
      "{'Y': 'lisa'}\n",
      "{'Y': 'maggie'}\n",
      "\n",
      "Query: son(bart, homer)\n",
      "{}\n",
      "\n",
      "Query: son(homer, bart)\n",
      "\n",
      "Query: daughter(lisa, homer)\n",
      "{}\n",
      "\n",
      "Query: grandparent(X, bart)\n",
      "{'X': 'abe'}\n",
      "{'X': 'mona'}\n",
      "\n"
     ]
    }
   ],
   "source": [
    "queries = [\n",
    "    \"father(X, bart)\",\n",
    "    \"mother(marge, Y)\",\n",
    "    \"son(bart, homer)\",\n",
    "    \"son(homer, bart)\",\n",
    "    \"daughter(lisa, homer)\",\n",
    "    \"grandparent(X, bart)\"\n",
    "]\n",
    "\n",
    "for q in queries:\n",
    "    print(f\"Query: {q}\")\n",
    "    results = prolog.query(q)\n",
    "    for r in results:\n",
    "        print(r)\n",
    "    print()\n"
   ]
  }
 ],
 "metadata": {
  "kernelspec": {
   "display_name": "Python (aiea_env)",
   "language": "python",
   "name": "aiea_env"
  },
  "language_info": {
   "codemirror_mode": {
    "name": "ipython",
    "version": 3
   },
   "file_extension": ".py",
   "mimetype": "text/x-python",
   "name": "python",
   "nbconvert_exporter": "python",
   "pygments_lexer": "ipython3",
   "version": "3.10.16"
  }
 },
 "nbformat": 4,
 "nbformat_minor": 5
}
